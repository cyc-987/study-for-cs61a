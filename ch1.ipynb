{
 "cells": [
  {
   "cell_type": "code",
   "execution_count": 6,
   "metadata": {},
   "outputs": [
    {
     "data": {
      "text/plain": [
       "{'diaper', 'drawer', 'redder', 'repaid', 'reward'}"
      ]
     },
     "execution_count": 6,
     "metadata": {},
     "output_type": "execute_result"
    }
   ],
   "source": [
    "#1.1开始\n",
    "from urllib.request import urlopen\n",
    "shakespeare = urlopen('https://www.composingprograms.com/shakespeare.txt')\n",
    "words = set(shakespeare.read().decode().split())\n",
    "{w for w in words if len(w) == 6 and w[::-1] in words}#w[::-1]表示反向枚举"
   ]
  },
  {
   "cell_type": "code",
   "execution_count": 11,
   "metadata": {},
   "outputs": [
    {
     "name": "stdout",
     "output_type": "stream",
     "text": [
      "1.0002380197528042\n",
      "4.5 3\n",
      "1\n",
      "2\n",
      "None None\n"
     ]
    }
   ],
   "source": [
    "#1.2编程要素\n",
    "from math import pi#名称可以从模块中导入\n",
    "print(pi * 71 / 223)\n",
    "radius = 10\n",
    "area, circumference = pi * radius * radius, 2 * pi * radius#多变量赋值\n",
    "\n",
    "#对于多重赋值，所有 = 右边的表达式都会先求值，然后再与左边的名称绑定\n",
    "x, y = 3, 4.5\n",
    "y, x = x, y#交换两个变量的值\n",
    "print(x, y)\n",
    "\n",
    "#非纯函数特征\n",
    "print(print(1), print(2))#print函数返回None"
   ]
  },
  {
   "cell_type": "code",
   "execution_count": 13,
   "metadata": {},
   "outputs": [
    {
     "name": "stdout",
     "output_type": "stream",
     "text": [
      "441\n"
     ]
    }
   ],
   "source": [
    "#1.3定义函数\n",
    "from operator import mul\n",
    "def square(x):\n",
    "    return mul(x, x)\n",
    "print(square(21))"
   ]
  },
  {
   "cell_type": "markdown",
   "metadata": {},
   "source": [
    "求解表达式的环境由 帧 序列组成，它们可以被描述为一些盒子。每个帧都包含了一些 绑定，它们将名称与对应的值相关联。全局 帧（global frame）只有一个。赋值和导入语句会将条目添加到当前环境的第一帧。\n",
    "\n",
    "函数也会出现在环境图中。import 语句将名称与内置函数绑定。def 语句将名称与用户自定义的函数绑定。"
   ]
  }
 ],
 "metadata": {
  "kernelspec": {
   "display_name": "Python 3",
   "language": "python",
   "name": "python3"
  },
  "language_info": {
   "codemirror_mode": {
    "name": "ipython",
    "version": 3
   },
   "file_extension": ".py",
   "mimetype": "text/x-python",
   "name": "python",
   "nbconvert_exporter": "python",
   "pygments_lexer": "ipython3",
   "version": "3.9.6"
  }
 },
 "nbformat": 4,
 "nbformat_minor": 2
}
